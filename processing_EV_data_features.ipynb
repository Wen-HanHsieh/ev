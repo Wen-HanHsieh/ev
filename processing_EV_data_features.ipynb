{
 "cells": [
  {
   "cell_type": "code",
   "execution_count": 75,
   "id": "db71106b",
   "metadata": {},
   "outputs": [],
   "source": [
    "import numpy as np\n",
    "import pandas as pd\n",
    "import os\n",
    "import torch\n",
    "import torch.nn as nn\n",
    "import torch.optim as optim\n",
    "from torch.utils.data import DataLoader, random_split, TensorDataset\n",
    "from tqdm import tqdm"
   ]
  },
  {
   "cell_type": "code",
   "execution_count": 3,
   "id": "4d231954",
   "metadata": {},
   "outputs": [],
   "source": [
    "df = pd.DataFrame()\n",
    "files = os.listdir('../EV_data/eved_dataset/data/eVED')\n",
    "for file in files:\n",
    "    df_tmp = pd.read_csv('../EV_data/eved_dataset/data/eVED/' + file, low_memory=False)\n",
    "    df = pd.concat((df,df_tmp),ignore_index=True)"
   ]
  },
  {
   "cell_type": "code",
   "execution_count": 104,
   "id": "930b07f3",
   "metadata": {},
   "outputs": [],
   "source": [
    "ev_list   = [10,455,541]\n",
    "phev_list = [9,11,371,379,388,398,417,431,443,449,453,457,492,497,536,537,542,545,550,554,560,561,567,569]\n",
    "icv_list  = [2,7,8,12,108,110,116,119,120,123,126,128,129,130,131,132,133,135,137,138,139,140,141,142,143,\n",
    "             145,147,148,149,153,154,155,156,157,159,160,161,162,163,164,165,167,169,172,174,176,179,180,181,\n",
    "             184,185,187,189,190,191,192,193,195,196,199,200,202,203,205,206,207,208,209,211,213,214,215,216,\n",
    "             217,218,222,223,225,228,230,232,233,234,235,237,238,240,243,244,246,247,248,249,250,251,252,254,\n",
    "             255,257,259,260,262,264,265,266,267,268,269,270,271,273,274,275,276,278,280,282,283,285,286,288,\n",
    "             289,291,293,297,299,300,301,302,303,304,306,307,308,309,311,312,313,315,318,319,321,323,324,325,\n",
    "             326,329,330,332,333,334,337,340,345,354,356,359,366,367,370,380,394,400,401,409,413,414,415,416,\n",
    "             426,429,432,433,434,454,459,460,461,462,463,464,465,466,467,469,470,472,473,476,478,480,482,483,\n",
    "             484,485,486,487,488,489,490,494,498,500,501,502,503,504,505,506,507,516,517,519,521,522,527,528,\n",
    "             529,530,531,533,534,535,538,539,540,546,547,548,552,557,562,563,571,575,576,577,578,580,581,584,\n",
    "             587,588,591,592,595,596,597,598,599,600,601,602,603,604,606,607,608,609,616,618,624,625,630]\n",
    "hev_list   = [5,115,124,125,150,201,212,220,231,241,242,258,272,292,298,328,338,344,346,347,348,349,350,351,353,\n",
    "              355,357,360,368,369,372,374,375,376,378,381,382,383,384,385,386,387,389,392,393,397,399,402,403,404,\n",
    "              405,406,407,410,411,418,422,428,430,435,436,437,438,439,440,441,444,445,447,448,450,451,452,456,458,\n",
    "              468,474,475,477,526,532,543,549,555,558,564,565,566,573,574,579,605,610]"
   ]
  },
  {
   "cell_type": "code",
   "execution_count": 150,
   "id": "55e32b11",
   "metadata": {},
   "outputs": [
    {
     "name": "stderr",
     "output_type": "stream",
     "text": [
      "100%|████████████████████████████████████████████████████████| 14716/14716 [01:40<00:00, 146.20it/s]\n"
     ]
    }
   ],
   "source": [
    "daynum_withoat    = np.unique(df.loc[~pd.isna(df['OAT[DegC]']),\"DayNum\"].values)\n",
    "daynum_withoutoat = np.unique(df.loc[pd.isna(df['OAT[DegC]']),\"DayNum\"].values)\n",
    "daynum_oat_dict = {}\n",
    "for daynum_tmp in tqdm(daynum_withoutoat):\n",
    "    closest = daynum_withoat[np.abs(daynum_withoat  - daynum_tmp).argmin()]\n",
    "    temperature = df.loc[df['DayNum']==closest,'OAT[DegC]'].values[0]\n",
    "    daynum_oat_dict[daynum_tmp] = temperature"
   ]
  },
  {
   "cell_type": "code",
   "execution_count": 159,
   "id": "f87222b2",
   "metadata": {},
   "outputs": [],
   "source": [
    "df['OAT[DegC]'] = df.apply(lambda x: daynum_oat_dict[x['DayNum']] if x['DayNum'] in daynum_oat_dict else x['OAT[DegC]'],axis=1)"
   ]
  },
  {
   "cell_type": "code",
   "execution_count": 162,
   "id": "e0d455d7",
   "metadata": {},
   "outputs": [],
   "source": [
    "def process_trip(group):\n",
    "    if group['HV Battery SOC[%]'].max() == 0:\n",
    "        return pd.DataFrame(columns=group.columns)\n",
    "\n",
    "    first_nonzero_idx = group[group['HV Battery SOC[%]'] != 0].index.min()\n",
    "\n",
    "    group = group.loc[first_nonzero_idx:].reset_index(drop=True)\n",
    "\n",
    "    group['Timestamp(ms)'] -= group['Timestamp(ms)'].iloc[0]\n",
    "\n",
    "    return group\n",
    "\n",
    "def check_and_fix_timeidx(df):\n",
    "    for trip, group in df.groupby('Trip'):\n",
    "        time_indices = group['Timeidx'].sort_values().values\n",
    "        \n",
    "        if time_indices[0] != 0 or any(time_indices[i+1] - time_indices[i] != 1 \n",
    "                                     for i in range(len(time_indices)-1)):\n",
    "            \n",
    "#             print(f\"Trip {trip} has discontinuous time indices - fixing...\")\n",
    "            \n",
    "            expected_seq = range(int(time_indices[-1]) + 1)\n",
    "            missing = set(expected_seq) - set(time_indices)\n",
    "            \n",
    "            for idx in sorted(missing):\n",
    "                prev_row = group[group['Timeidx'] < idx].iloc[-1] if any(group['Timeidx'] < idx) else None\n",
    "                next_row = group[group['Timeidx'] > idx].iloc[0] if any(group['Timeidx'] > idx) else None\n",
    "                if prev_row is not None and next_row is not None:\n",
    "                    new_row = (prev_row + next_row) / 2\n",
    "                elif prev_row is not None:\n",
    "                    new_row = prev_row.copy()\n",
    "                else:\n",
    "                    new_row = next_row.copy()\n",
    "                \n",
    "                new_row['Timeidx'] = idx\n",
    "                df = pd.concat([df, new_row.to_frame().T])\n",
    "    df = df.sort_values(['Trip', 'Timeidx']).reset_index(drop=True)\n",
    "    return df"
   ]
  },
  {
   "cell_type": "code",
   "execution_count": 163,
   "id": "059e843a",
   "metadata": {},
   "outputs": [
    {
     "name": "stderr",
     "output_type": "stream",
     "text": [
      "  0%|                                                                        | 0/27 [00:00<?, ?it/s]/var/folders/y0/r6q4z32x3gs5w8_vbc44s9680000gn/T/ipykernel_26299/3085532662.py:12: DeprecationWarning: DataFrameGroupBy.apply operated on the grouping columns. This behavior is deprecated, and in a future version of pandas the grouping columns will be excluded from the operation. Either pass `include_groups=False` to exclude the groupings or explicitly select the grouping columns after groupby to silence this warning.\n",
      "  df_processed = df_specific.groupby('Trip', group_keys=False).apply(process_trip) # only for electric vehicles\n",
      "\n",
      "100%|████████████████████████████████████████████████████████████████| 6/6 [00:00<00:00, 530.75it/s]\u001b[A\n",
      "  4%|██▎                                                             | 1/27 [00:00<00:04,  5.26it/s]/var/folders/y0/r6q4z32x3gs5w8_vbc44s9680000gn/T/ipykernel_26299/3085532662.py:12: FutureWarning: The behavior of DataFrame concatenation with empty or all-NA entries is deprecated. In a future version, this will no longer exclude empty or all-NA columns when determining the result dtypes. To retain the old behavior, exclude the relevant entries before the concat operation.\n",
      "  df_processed = df_specific.groupby('Trip', group_keys=False).apply(process_trip) # only for electric vehicles\n",
      "/var/folders/y0/r6q4z32x3gs5w8_vbc44s9680000gn/T/ipykernel_26299/3085532662.py:12: DeprecationWarning: DataFrameGroupBy.apply operated on the grouping columns. This behavior is deprecated, and in a future version of pandas the grouping columns will be excluded from the operation. Either pass `include_groups=False` to exclude the groupings or explicitly select the grouping columns after groupby to silence this warning.\n",
      "  df_processed = df_specific.groupby('Trip', group_keys=False).apply(process_trip) # only for electric vehicles\n",
      "\n",
      "  0%|                                                                       | 0/148 [00:00<?, ?it/s]\u001b[A\n",
      "100%|████████████████████████████████████████████████████████████| 148/148 [00:00<00:00, 912.50it/s]\u001b[A\n",
      "  7%|████▋                                                           | 2/27 [00:04<01:01,  2.47s/it]/var/folders/y0/r6q4z32x3gs5w8_vbc44s9680000gn/T/ipykernel_26299/3085532662.py:12: FutureWarning: The behavior of DataFrame concatenation with empty or all-NA entries is deprecated. In a future version, this will no longer exclude empty or all-NA columns when determining the result dtypes. To retain the old behavior, exclude the relevant entries before the concat operation.\n",
      "  df_processed = df_specific.groupby('Trip', group_keys=False).apply(process_trip) # only for electric vehicles\n",
      "/var/folders/y0/r6q4z32x3gs5w8_vbc44s9680000gn/T/ipykernel_26299/3085532662.py:12: DeprecationWarning: DataFrameGroupBy.apply operated on the grouping columns. This behavior is deprecated, and in a future version of pandas the grouping columns will be excluded from the operation. Either pass `include_groups=False` to exclude the groupings or explicitly select the grouping columns after groupby to silence this warning.\n",
      "  df_processed = df_specific.groupby('Trip', group_keys=False).apply(process_trip) # only for electric vehicles\n",
      "\n",
      "  0%|                                                                       | 0/386 [00:00<?, ?it/s]\u001b[A\n",
      " 13%|███████▉                                                     | 50/386 [00:00<00:00, 496.41it/s]\u001b[A\n",
      " 26%|███████████████▌                                            | 100/386 [00:00<00:00, 490.04it/s]\u001b[A\n",
      " 39%|███████████████████████▎                                    | 150/386 [00:00<00:00, 483.81it/s]\u001b[A\n",
      " 55%|████████████████████████████████▊                           | 211/386 [00:00<00:00, 528.90it/s]\u001b[A\n",
      " 69%|█████████████████████████████████████████▋                  | 268/386 [00:00<00:00, 543.28it/s]\u001b[A\n",
      " 84%|██████████████████████████████████████████████████▏         | 323/386 [00:00<00:00, 524.49it/s]\u001b[A\n",
      "100%|████████████████████████████████████████████████████████████| 386/386 [00:00<00:00, 504.54it/s]\u001b[A\n",
      " 11%|███████                                                         | 3/27 [00:42<07:26, 18.60s/it]/var/folders/y0/r6q4z32x3gs5w8_vbc44s9680000gn/T/ipykernel_26299/3085532662.py:12: DeprecationWarning: DataFrameGroupBy.apply operated on the grouping columns. This behavior is deprecated, and in a future version of pandas the grouping columns will be excluded from the operation. Either pass `include_groups=False` to exclude the groupings or explicitly select the grouping columns after groupby to silence this warning.\n",
      "  df_processed = df_specific.groupby('Trip', group_keys=False).apply(process_trip) # only for electric vehicles\n",
      "\n",
      "100%|███████████████████████████████████████████████████████████████| 4/4 [00:00<00:00, 1280.41it/s]\u001b[A\n",
      "/var/folders/y0/r6q4z32x3gs5w8_vbc44s9680000gn/T/ipykernel_26299/3085532662.py:12: FutureWarning: The behavior of DataFrame concatenation with empty or all-NA entries is deprecated. In a future version, this will no longer exclude empty or all-NA columns when determining the result dtypes. To retain the old behavior, exclude the relevant entries before the concat operation.\n",
      "  df_processed = df_specific.groupby('Trip', group_keys=False).apply(process_trip) # only for electric vehicles\n",
      "/var/folders/y0/r6q4z32x3gs5w8_vbc44s9680000gn/T/ipykernel_26299/3085532662.py:12: DeprecationWarning: DataFrameGroupBy.apply operated on the grouping columns. This behavior is deprecated, and in a future version of pandas the grouping columns will be excluded from the operation. Either pass `include_groups=False` to exclude the groupings or explicitly select the grouping columns after groupby to silence this warning.\n",
      "  df_processed = df_specific.groupby('Trip', group_keys=False).apply(process_trip) # only for electric vehicles\n",
      "\n",
      "  0%|                                                                       | 0/313 [00:00<?, ?it/s]\u001b[A\n",
      " 21%|████████████▋                                                | 65/313 [00:00<00:00, 643.67it/s]\u001b[A\n",
      " 42%|████████████████████████▉                                   | 130/313 [00:00<00:00, 604.94it/s]\u001b[A\n",
      " 61%|████████████████████████████████████▌                       | 191/313 [00:00<00:00, 542.20it/s]\u001b[A\n",
      "100%|████████████████████████████████████████████████████████████| 313/313 [00:00<00:00, 584.92it/s]\u001b[A\n",
      " 19%|███████████▊                                                    | 5/27 [00:57<04:33, 12.41s/it]/var/folders/y0/r6q4z32x3gs5w8_vbc44s9680000gn/T/ipykernel_26299/3085532662.py:12: FutureWarning: The behavior of DataFrame concatenation with empty or all-NA entries is deprecated. In a future version, this will no longer exclude empty or all-NA columns when determining the result dtypes. To retain the old behavior, exclude the relevant entries before the concat operation.\n",
      "  df_processed = df_specific.groupby('Trip', group_keys=False).apply(process_trip) # only for electric vehicles\n",
      "/var/folders/y0/r6q4z32x3gs5w8_vbc44s9680000gn/T/ipykernel_26299/3085532662.py:12: DeprecationWarning: DataFrameGroupBy.apply operated on the grouping columns. This behavior is deprecated, and in a future version of pandas the grouping columns will be excluded from the operation. Either pass `include_groups=False` to exclude the groupings or explicitly select the grouping columns after groupby to silence this warning.\n",
      "  df_processed = df_specific.groupby('Trip', group_keys=False).apply(process_trip) # only for electric vehicles\n",
      "\n",
      "  0%|                                                                       | 0/153 [00:00<?, ?it/s]\u001b[A\n",
      " 49%|█████████████████████████████▉                               | 75/153 [00:00<00:00, 747.71it/s]\u001b[A\n",
      "100%|████████████████████████████████████████████████████████████| 153/153 [00:00<00:00, 639.46it/s]\u001b[A\n",
      " 22%|██████████████▏                                                 | 6/27 [01:06<03:59, 11.39s/it]/var/folders/y0/r6q4z32x3gs5w8_vbc44s9680000gn/T/ipykernel_26299/3085532662.py:12: FutureWarning: The behavior of DataFrame concatenation with empty or all-NA entries is deprecated. In a future version, this will no longer exclude empty or all-NA columns when determining the result dtypes. To retain the old behavior, exclude the relevant entries before the concat operation.\n",
      "  df_processed = df_specific.groupby('Trip', group_keys=False).apply(process_trip) # only for electric vehicles\n",
      "/var/folders/y0/r6q4z32x3gs5w8_vbc44s9680000gn/T/ipykernel_26299/3085532662.py:12: DeprecationWarning: DataFrameGroupBy.apply operated on the grouping columns. This behavior is deprecated, and in a future version of pandas the grouping columns will be excluded from the operation. Either pass `include_groups=False` to exclude the groupings or explicitly select the grouping columns after groupby to silence this warning.\n",
      "  df_processed = df_specific.groupby('Trip', group_keys=False).apply(process_trip) # only for electric vehicles\n"
     ]
    },
    {
     "name": "stderr",
     "output_type": "stream",
     "text": [
      "\n",
      "100%|█████████████████████████████████████████████████████████████| 83/83 [00:00<00:00, 1071.96it/s]\u001b[A\n",
      " 26%|████████████████▌                                               | 7/27 [01:07<02:49,  8.47s/it]/var/folders/y0/r6q4z32x3gs5w8_vbc44s9680000gn/T/ipykernel_26299/3085532662.py:12: FutureWarning: The behavior of DataFrame concatenation with empty or all-NA entries is deprecated. In a future version, this will no longer exclude empty or all-NA columns when determining the result dtypes. To retain the old behavior, exclude the relevant entries before the concat operation.\n",
      "  df_processed = df_specific.groupby('Trip', group_keys=False).apply(process_trip) # only for electric vehicles\n",
      "/var/folders/y0/r6q4z32x3gs5w8_vbc44s9680000gn/T/ipykernel_26299/3085532662.py:12: DeprecationWarning: DataFrameGroupBy.apply operated on the grouping columns. This behavior is deprecated, and in a future version of pandas the grouping columns will be excluded from the operation. Either pass `include_groups=False` to exclude the groupings or explicitly select the grouping columns after groupby to silence this warning.\n",
      "  df_processed = df_specific.groupby('Trip', group_keys=False).apply(process_trip) # only for electric vehicles\n",
      "\n",
      "100%|█████████████████████████████████████████████████████████████| 24/24 [00:00<00:00, 1124.28it/s]\u001b[A\n",
      " 30%|██████████████████▉                                             | 8/27 [01:08<01:55,  6.10s/it]/var/folders/y0/r6q4z32x3gs5w8_vbc44s9680000gn/T/ipykernel_26299/3085532662.py:12: FutureWarning: The behavior of DataFrame concatenation with empty or all-NA entries is deprecated. In a future version, this will no longer exclude empty or all-NA columns when determining the result dtypes. To retain the old behavior, exclude the relevant entries before the concat operation.\n",
      "  df_processed = df_specific.groupby('Trip', group_keys=False).apply(process_trip) # only for electric vehicles\n",
      "/var/folders/y0/r6q4z32x3gs5w8_vbc44s9680000gn/T/ipykernel_26299/3085532662.py:12: DeprecationWarning: DataFrameGroupBy.apply operated on the grouping columns. This behavior is deprecated, and in a future version of pandas the grouping columns will be excluded from the operation. Either pass `include_groups=False` to exclude the groupings or explicitly select the grouping columns after groupby to silence this warning.\n",
      "  df_processed = df_specific.groupby('Trip', group_keys=False).apply(process_trip) # only for electric vehicles\n",
      "\n",
      "100%|██████████████████████████████████████████████████████████████| 40/40 [00:00<00:00, 914.45it/s]\u001b[A\n",
      " 33%|█████████████████████▎                                          | 9/27 [01:09<01:22,  4.59s/it]/var/folders/y0/r6q4z32x3gs5w8_vbc44s9680000gn/T/ipykernel_26299/3085532662.py:12: FutureWarning: The behavior of DataFrame concatenation with empty or all-NA entries is deprecated. In a future version, this will no longer exclude empty or all-NA columns when determining the result dtypes. To retain the old behavior, exclude the relevant entries before the concat operation.\n",
      "  df_processed = df_specific.groupby('Trip', group_keys=False).apply(process_trip) # only for electric vehicles\n",
      "/var/folders/y0/r6q4z32x3gs5w8_vbc44s9680000gn/T/ipykernel_26299/3085532662.py:12: DeprecationWarning: DataFrameGroupBy.apply operated on the grouping columns. This behavior is deprecated, and in a future version of pandas the grouping columns will be excluded from the operation. Either pass `include_groups=False` to exclude the groupings or explicitly select the grouping columns after groupby to silence this warning.\n",
      "  df_processed = df_specific.groupby('Trip', group_keys=False).apply(process_trip) # only for electric vehicles\n",
      "\n",
      "  0%|                                                                       | 0/179 [00:00<?, ?it/s]\u001b[A\n",
      "100%|████████████████████████████████████████████████████████████| 179/179 [00:00<00:00, 965.17it/s]\u001b[A\n",
      " 37%|███████████████████████▎                                       | 10/27 [01:14<01:22,  4.87s/it]/var/folders/y0/r6q4z32x3gs5w8_vbc44s9680000gn/T/ipykernel_26299/3085532662.py:12: FutureWarning: The behavior of DataFrame concatenation with empty or all-NA entries is deprecated. In a future version, this will no longer exclude empty or all-NA columns when determining the result dtypes. To retain the old behavior, exclude the relevant entries before the concat operation.\n",
      "  df_processed = df_specific.groupby('Trip', group_keys=False).apply(process_trip) # only for electric vehicles\n",
      "/var/folders/y0/r6q4z32x3gs5w8_vbc44s9680000gn/T/ipykernel_26299/3085532662.py:12: DeprecationWarning: DataFrameGroupBy.apply operated on the grouping columns. This behavior is deprecated, and in a future version of pandas the grouping columns will be excluded from the operation. Either pass `include_groups=False` to exclude the groupings or explicitly select the grouping columns after groupby to silence this warning.\n",
      "  df_processed = df_specific.groupby('Trip', group_keys=False).apply(process_trip) # only for electric vehicles\n",
      "\n",
      "100%|██████████████████████████████████████████████████████████████| 31/31 [00:00<00:00, 804.40it/s]\u001b[A\n",
      " 41%|█████████████████████████▋                                     | 11/27 [01:15<00:57,  3.59s/it]/var/folders/y0/r6q4z32x3gs5w8_vbc44s9680000gn/T/ipykernel_26299/3085532662.py:12: FutureWarning: The behavior of DataFrame concatenation with empty or all-NA entries is deprecated. In a future version, this will no longer exclude empty or all-NA columns when determining the result dtypes. To retain the old behavior, exclude the relevant entries before the concat operation.\n",
      "  df_processed = df_specific.groupby('Trip', group_keys=False).apply(process_trip) # only for electric vehicles\n",
      "/var/folders/y0/r6q4z32x3gs5w8_vbc44s9680000gn/T/ipykernel_26299/3085532662.py:12: DeprecationWarning: DataFrameGroupBy.apply operated on the grouping columns. This behavior is deprecated, and in a future version of pandas the grouping columns will be excluded from the operation. Either pass `include_groups=False` to exclude the groupings or explicitly select the grouping columns after groupby to silence this warning.\n",
      "  df_processed = df_specific.groupby('Trip', group_keys=False).apply(process_trip) # only for electric vehicles\n",
      "\n",
      "  0%|                                                                       | 0/238 [00:00<?, ?it/s]\u001b[A\n",
      " 15%|█████████▏                                                   | 36/238 [00:00<00:00, 348.04it/s]\u001b[A\n",
      " 39%|███████████████████████▊                                     | 93/238 [00:00<00:00, 476.62it/s]\u001b[A\n",
      "100%|████████████████████████████████████████████████████████████| 238/238 [00:00<00:00, 570.93it/s]\u001b[A\n",
      " 44%|████████████████████████████                                   | 12/27 [01:49<03:12, 12.86s/it]/var/folders/y0/r6q4z32x3gs5w8_vbc44s9680000gn/T/ipykernel_26299/3085532662.py:12: FutureWarning: The behavior of DataFrame concatenation with empty or all-NA entries is deprecated. In a future version, this will no longer exclude empty or all-NA columns when determining the result dtypes. To retain the old behavior, exclude the relevant entries before the concat operation.\n",
      "  df_processed = df_specific.groupby('Trip', group_keys=False).apply(process_trip) # only for electric vehicles\n",
      "/var/folders/y0/r6q4z32x3gs5w8_vbc44s9680000gn/T/ipykernel_26299/3085532662.py:12: DeprecationWarning: DataFrameGroupBy.apply operated on the grouping columns. This behavior is deprecated, and in a future version of pandas the grouping columns will be excluded from the operation. Either pass `include_groups=False` to exclude the groupings or explicitly select the grouping columns after groupby to silence this warning.\n",
      "  df_processed = df_specific.groupby('Trip', group_keys=False).apply(process_trip) # only for electric vehicles\n",
      "\n",
      "  0%|                                                                       | 0/101 [00:00<?, ?it/s]\u001b[A\n",
      "100%|████████████████████████████████████████████████████████████| 101/101 [00:00<00:00, 511.49it/s]\u001b[A\n",
      " 48%|██████████████████████████████▎                                | 13/27 [01:57<02:38, 11.30s/it]/var/folders/y0/r6q4z32x3gs5w8_vbc44s9680000gn/T/ipykernel_26299/3085532662.py:12: DeprecationWarning: DataFrameGroupBy.apply operated on the grouping columns. This behavior is deprecated, and in a future version of pandas the grouping columns will be excluded from the operation. Either pass `include_groups=False` to exclude the groupings or explicitly select the grouping columns after groupby to silence this warning.\n",
      "  df_processed = df_specific.groupby('Trip', group_keys=False).apply(process_trip) # only for electric vehicles\n"
     ]
    },
    {
     "name": "stderr",
     "output_type": "stream",
     "text": [
      "\n",
      "100%|██████████████████████████████████████████████████████████████| 14/14 [00:00<00:00, 429.44it/s]\u001b[A\n",
      " 52%|████████████████████████████████▋                              | 14/27 [01:59<01:49,  8.44s/it]/var/folders/y0/r6q4z32x3gs5w8_vbc44s9680000gn/T/ipykernel_26299/3085532662.py:12: FutureWarning: The behavior of DataFrame concatenation with empty or all-NA entries is deprecated. In a future version, this will no longer exclude empty or all-NA columns when determining the result dtypes. To retain the old behavior, exclude the relevant entries before the concat operation.\n",
      "  df_processed = df_specific.groupby('Trip', group_keys=False).apply(process_trip) # only for electric vehicles\n",
      "/var/folders/y0/r6q4z32x3gs5w8_vbc44s9680000gn/T/ipykernel_26299/3085532662.py:12: DeprecationWarning: DataFrameGroupBy.apply operated on the grouping columns. This behavior is deprecated, and in a future version of pandas the grouping columns will be excluded from the operation. Either pass `include_groups=False` to exclude the groupings or explicitly select the grouping columns after groupby to silence this warning.\n",
      "  df_processed = df_specific.groupby('Trip', group_keys=False).apply(process_trip) # only for electric vehicles\n",
      "\n",
      "100%|█████████████████████████████████████████████████████████████| 85/85 [00:00<00:00, 1510.49it/s]\u001b[A\n",
      " 56%|███████████████████████████████████                            | 15/27 [02:01<01:18,  6.54s/it]/var/folders/y0/r6q4z32x3gs5w8_vbc44s9680000gn/T/ipykernel_26299/3085532662.py:12: FutureWarning: The behavior of DataFrame concatenation with empty or all-NA entries is deprecated. In a future version, this will no longer exclude empty or all-NA columns when determining the result dtypes. To retain the old behavior, exclude the relevant entries before the concat operation.\n",
      "  df_processed = df_specific.groupby('Trip', group_keys=False).apply(process_trip) # only for electric vehicles\n",
      "/var/folders/y0/r6q4z32x3gs5w8_vbc44s9680000gn/T/ipykernel_26299/3085532662.py:12: DeprecationWarning: DataFrameGroupBy.apply operated on the grouping columns. This behavior is deprecated, and in a future version of pandas the grouping columns will be excluded from the operation. Either pass `include_groups=False` to exclude the groupings or explicitly select the grouping columns after groupby to silence this warning.\n",
      "  df_processed = df_specific.groupby('Trip', group_keys=False).apply(process_trip) # only for electric vehicles\n",
      "\n",
      "  0%|                                                                       | 0/192 [00:00<?, ?it/s]\u001b[A\n",
      " 46%|████████████████████████████▎                                | 89/192 [00:00<00:00, 882.08it/s]\u001b[A\n",
      "100%|████████████████████████████████████████████████████████████| 192/192 [00:00<00:00, 826.83it/s]\u001b[A\n",
      " 59%|█████████████████████████████████████▎                         | 16/27 [02:08<01:15,  6.90s/it]/var/folders/y0/r6q4z32x3gs5w8_vbc44s9680000gn/T/ipykernel_26299/3085532662.py:12: FutureWarning: The behavior of DataFrame concatenation with empty or all-NA entries is deprecated. In a future version, this will no longer exclude empty or all-NA columns when determining the result dtypes. To retain the old behavior, exclude the relevant entries before the concat operation.\n",
      "  df_processed = df_specific.groupby('Trip', group_keys=False).apply(process_trip) # only for electric vehicles\n",
      "/var/folders/y0/r6q4z32x3gs5w8_vbc44s9680000gn/T/ipykernel_26299/3085532662.py:12: DeprecationWarning: DataFrameGroupBy.apply operated on the grouping columns. This behavior is deprecated, and in a future version of pandas the grouping columns will be excluded from the operation. Either pass `include_groups=False` to exclude the groupings or explicitly select the grouping columns after groupby to silence this warning.\n",
      "  df_processed = df_specific.groupby('Trip', group_keys=False).apply(process_trip) # only for electric vehicles\n",
      "\n",
      "100%|██████████████████████████████████████████████████████████████| 46/46 [00:00<00:00, 512.75it/s]\u001b[A\n",
      " 63%|███████████████████████████████████████▋                       | 17/27 [02:13<01:00,  6.09s/it]/var/folders/y0/r6q4z32x3gs5w8_vbc44s9680000gn/T/ipykernel_26299/3085532662.py:12: FutureWarning: The behavior of DataFrame concatenation with empty or all-NA entries is deprecated. In a future version, this will no longer exclude empty or all-NA columns when determining the result dtypes. To retain the old behavior, exclude the relevant entries before the concat operation.\n",
      "  df_processed = df_specific.groupby('Trip', group_keys=False).apply(process_trip) # only for electric vehicles\n",
      "/var/folders/y0/r6q4z32x3gs5w8_vbc44s9680000gn/T/ipykernel_26299/3085532662.py:12: DeprecationWarning: DataFrameGroupBy.apply operated on the grouping columns. This behavior is deprecated, and in a future version of pandas the grouping columns will be excluded from the operation. Either pass `include_groups=False` to exclude the groupings or explicitly select the grouping columns after groupby to silence this warning.\n",
      "  df_processed = df_specific.groupby('Trip', group_keys=False).apply(process_trip) # only for electric vehicles\n",
      "\n",
      "100%|████████████████████████████████████████████████████████████████| 4/4 [00:00<00:00, 199.22it/s]\u001b[A\n",
      " 67%|██████████████████████████████████████████                     | 18/27 [02:13<00:40,  4.48s/it]/var/folders/y0/r6q4z32x3gs5w8_vbc44s9680000gn/T/ipykernel_26299/3085532662.py:12: DeprecationWarning: DataFrameGroupBy.apply operated on the grouping columns. This behavior is deprecated, and in a future version of pandas the grouping columns will be excluded from the operation. Either pass `include_groups=False` to exclude the groupings or explicitly select the grouping columns after groupby to silence this warning.\n",
      "  df_processed = df_specific.groupby('Trip', group_keys=False).apply(process_trip) # only for electric vehicles\n",
      "\n",
      "  0%|                                                                       | 0/302 [00:00<?, ?it/s]\u001b[A\n",
      "100%|███████████████████████████████████████████████████████████| 302/302 [00:00<00:00, 1704.89it/s]\u001b[A\n",
      " 70%|████████████████████████████████████████████▎                  | 19/27 [02:17<00:34,  4.27s/it]/var/folders/y0/r6q4z32x3gs5w8_vbc44s9680000gn/T/ipykernel_26299/3085532662.py:12: DeprecationWarning: DataFrameGroupBy.apply operated on the grouping columns. This behavior is deprecated, and in a future version of pandas the grouping columns will be excluded from the operation. Either pass `include_groups=False` to exclude the groupings or explicitly select the grouping columns after groupby to silence this warning.\n",
      "  df_processed = df_specific.groupby('Trip', group_keys=False).apply(process_trip) # only for electric vehicles\n",
      "\n",
      "100%|██████████████████████████████████████████████████████████████| 69/69 [00:00<00:00, 876.00it/s]\u001b[A\n",
      " 74%|██████████████████████████████████████████████▋                | 20/27 [02:19<00:24,  3.46s/it]/var/folders/y0/r6q4z32x3gs5w8_vbc44s9680000gn/T/ipykernel_26299/3085532662.py:12: FutureWarning: The behavior of DataFrame concatenation with empty or all-NA entries is deprecated. In a future version, this will no longer exclude empty or all-NA columns when determining the result dtypes. To retain the old behavior, exclude the relevant entries before the concat operation.\n",
      "  df_processed = df_specific.groupby('Trip', group_keys=False).apply(process_trip) # only for electric vehicles\n",
      "/var/folders/y0/r6q4z32x3gs5w8_vbc44s9680000gn/T/ipykernel_26299/3085532662.py:12: DeprecationWarning: DataFrameGroupBy.apply operated on the grouping columns. This behavior is deprecated, and in a future version of pandas the grouping columns will be excluded from the operation. Either pass `include_groups=False` to exclude the groupings or explicitly select the grouping columns after groupby to silence this warning.\n",
      "  df_processed = df_specific.groupby('Trip', group_keys=False).apply(process_trip) # only for electric vehicles\n",
      "\n",
      "  0%|                                                                       | 0/362 [00:00<?, ?it/s]\u001b[A\n",
      "  6%|███▉                                                         | 23/362 [00:00<00:01, 222.59it/s]\u001b[A\n"
     ]
    },
    {
     "name": "stderr",
     "output_type": "stream",
     "text": [
      " 13%|███████▊                                                     | 46/362 [00:00<00:01, 225.83it/s]\u001b[A\n",
      " 21%|████████████▊                                                | 76/362 [00:00<00:01, 257.64it/s]\u001b[A\n",
      " 28%|████████████████▉                                           | 102/362 [00:00<00:01, 232.55it/s]\u001b[A\n",
      " 35%|████████████████████▉                                       | 126/362 [00:00<00:01, 234.54it/s]\u001b[A\n",
      " 45%|██████████████████████████▊                                 | 162/362 [00:00<00:00, 274.15it/s]\u001b[A\n",
      " 53%|███████████████████████████████▋                            | 191/362 [00:00<00:00, 276.29it/s]\u001b[A\n",
      " 60%|████████████████████████████████████▎                       | 219/362 [00:00<00:00, 268.38it/s]\u001b[A\n",
      " 68%|████████████████████████████████████████▉                   | 247/362 [00:00<00:00, 247.92it/s]\u001b[A\n",
      " 76%|█████████████████████████████████████████████▍              | 274/362 [00:01<00:00, 249.06it/s]\u001b[A\n",
      " 83%|█████████████████████████████████████████████████▋          | 300/362 [00:01<00:00, 251.38it/s]\u001b[A\n",
      " 90%|██████████████████████████████████████████████████████      | 326/362 [00:01<00:00, 237.77it/s]\u001b[A\n",
      "100%|████████████████████████████████████████████████████████████| 362/362 [00:01<00:00, 245.15it/s]\u001b[A\n",
      " 78%|█████████████████████████████████████████████████              | 21/27 [06:12<07:13, 72.29s/it]/var/folders/y0/r6q4z32x3gs5w8_vbc44s9680000gn/T/ipykernel_26299/3085532662.py:12: FutureWarning: The behavior of DataFrame concatenation with empty or all-NA entries is deprecated. In a future version, this will no longer exclude empty or all-NA columns when determining the result dtypes. To retain the old behavior, exclude the relevant entries before the concat operation.\n",
      "  df_processed = df_specific.groupby('Trip', group_keys=False).apply(process_trip) # only for electric vehicles\n",
      "/var/folders/y0/r6q4z32x3gs5w8_vbc44s9680000gn/T/ipykernel_26299/3085532662.py:12: DeprecationWarning: DataFrameGroupBy.apply operated on the grouping columns. This behavior is deprecated, and in a future version of pandas the grouping columns will be excluded from the operation. Either pass `include_groups=False` to exclude the groupings or explicitly select the grouping columns after groupby to silence this warning.\n",
      "  df_processed = df_specific.groupby('Trip', group_keys=False).apply(process_trip) # only for electric vehicles\n",
      "\n",
      "  0%|                                                                       | 0/252 [00:00<?, ?it/s]\u001b[A\n",
      " 25%|███████████████▎                                             | 63/252 [00:00<00:00, 623.73it/s]\u001b[A\n",
      " 50%|██████████████████████████████                              | 126/252 [00:00<00:00, 623.95it/s]\u001b[A\n",
      "100%|████████████████████████████████████████████████████████████| 252/252 [00:00<00:00, 623.51it/s]\u001b[A\n",
      " 81%|███████████████████████████████████████████████████▎           | 22/27 [06:25<04:33, 54.71s/it]/var/folders/y0/r6q4z32x3gs5w8_vbc44s9680000gn/T/ipykernel_26299/3085532662.py:12: DeprecationWarning: DataFrameGroupBy.apply operated on the grouping columns. This behavior is deprecated, and in a future version of pandas the grouping columns will be excluded from the operation. Either pass `include_groups=False` to exclude the groupings or explicitly select the grouping columns after groupby to silence this warning.\n",
      "  df_processed = df_specific.groupby('Trip', group_keys=False).apply(process_trip) # only for electric vehicles\n",
      "\n",
      "100%|██████████████████████████████████████████████████████████████| 14/14 [00:00<00:00, 341.76it/s]\u001b[A\n",
      " 85%|█████████████████████████████████████████████████████▋         | 23/27 [06:28<02:36, 39.18s/it]/var/folders/y0/r6q4z32x3gs5w8_vbc44s9680000gn/T/ipykernel_26299/3085532662.py:12: FutureWarning: The behavior of DataFrame concatenation with empty or all-NA entries is deprecated. In a future version, this will no longer exclude empty or all-NA columns when determining the result dtypes. To retain the old behavior, exclude the relevant entries before the concat operation.\n",
      "  df_processed = df_specific.groupby('Trip', group_keys=False).apply(process_trip) # only for electric vehicles\n",
      "/var/folders/y0/r6q4z32x3gs5w8_vbc44s9680000gn/T/ipykernel_26299/3085532662.py:12: DeprecationWarning: DataFrameGroupBy.apply operated on the grouping columns. This behavior is deprecated, and in a future version of pandas the grouping columns will be excluded from the operation. Either pass `include_groups=False` to exclude the groupings or explicitly select the grouping columns after groupby to silence this warning.\n",
      "  df_processed = df_specific.groupby('Trip', group_keys=False).apply(process_trip) # only for electric vehicles\n",
      "\n",
      "  0%|                                                                       | 0/224 [00:00<?, ?it/s]\u001b[A\n",
      " 13%|███████▉                                                     | 29/224 [00:00<00:00, 286.88it/s]\u001b[A\n",
      " 29%|█████████████████▍                                           | 64/224 [00:00<00:00, 321.44it/s]\u001b[A\n",
      " 44%|██████████████████████████▉                                  | 99/224 [00:00<00:00, 315.18it/s]\u001b[A\n",
      " 62%|█████████████████████████████████████▌                      | 140/224 [00:00<00:00, 349.94it/s]\u001b[A\n",
      "100%|████████████████████████████████████████████████████████████| 224/224 [00:00<00:00, 362.42it/s]\u001b[A\n",
      " 89%|████████████████████████████████████████████████████████       | 24/27 [07:40<02:26, 48.93s/it]/var/folders/y0/r6q4z32x3gs5w8_vbc44s9680000gn/T/ipykernel_26299/3085532662.py:12: DeprecationWarning: DataFrameGroupBy.apply operated on the grouping columns. This behavior is deprecated, and in a future version of pandas the grouping columns will be excluded from the operation. Either pass `include_groups=False` to exclude the groupings or explicitly select the grouping columns after groupby to silence this warning.\n",
      "  df_processed = df_specific.groupby('Trip', group_keys=False).apply(process_trip) # only for electric vehicles\n",
      "\n",
      "  0%|                                                                       | 0/201 [00:00<?, ?it/s]\u001b[A\n",
      " 38%|███████████████████████▎                                     | 77/201 [00:00<00:00, 759.00it/s]\u001b[A\n",
      "100%|████████████████████████████████████████████████████████████| 201/201 [00:00<00:00, 652.52it/s]\u001b[A\n",
      " 93%|██████████████████████████████████████████████████████████▎    | 25/27 [08:02<01:21, 40.84s/it]/var/folders/y0/r6q4z32x3gs5w8_vbc44s9680000gn/T/ipykernel_26299/3085532662.py:12: DeprecationWarning: DataFrameGroupBy.apply operated on the grouping columns. This behavior is deprecated, and in a future version of pandas the grouping columns will be excluded from the operation. Either pass `include_groups=False` to exclude the groupings or explicitly select the grouping columns after groupby to silence this warning.\n",
      "  df_processed = df_specific.groupby('Trip', group_keys=False).apply(process_trip) # only for electric vehicles\n",
      "\n",
      "  0%|                                                                       | 0/293 [00:00<?, ?it/s]\u001b[A\n",
      " 21%|████████████▉                                                | 62/293 [00:00<00:00, 602.37it/s]\u001b[A\n",
      " 42%|█████████████████████████▏                                  | 123/293 [00:00<00:00, 551.07it/s]\u001b[A\n",
      " 62%|█████████████████████████████████████                       | 181/293 [00:00<00:00, 562.80it/s]\u001b[A\n",
      "100%|████████████████████████████████████████████████████████████| 293/293 [00:00<00:00, 549.96it/s]\u001b[A\n",
      " 96%|████████████████████████████████████████████████████████████▋  | 26/27 [08:41<00:40, 40.20s/it]/var/folders/y0/r6q4z32x3gs5w8_vbc44s9680000gn/T/ipykernel_26299/3085532662.py:12: DeprecationWarning: DataFrameGroupBy.apply operated on the grouping columns. This behavior is deprecated, and in a future version of pandas the grouping columns will be excluded from the operation. Either pass `include_groups=False` to exclude the groupings or explicitly select the grouping columns after groupby to silence this warning.\n",
      "  df_processed = df_specific.groupby('Trip', group_keys=False).apply(process_trip) # only for electric vehicles\n",
      "\n",
      "100%|█████████████████████████████████████████████████████████████| 10/10 [00:00<00:00, 1131.12it/s]\u001b[A\n"
     ]
    },
    {
     "name": "stderr",
     "output_type": "stream",
     "text": [
      "100%|███████████████████████████████████████████████████████████████| 27/27 [08:41<00:00, 19.31s/it]\n"
     ]
    }
   ],
   "source": [
    "time_series_x = []\n",
    "time_series_y = []\n",
    "\n",
    "sequence_length = 100 # unit: second, use_defined_parameters\n",
    "useful_features = ['VehId','Trip','Timestamp(ms)','Latitude[deg]','Longitude[deg]','Vehicle Speed[km/h]',\n",
    "                  'OAT[DegC]','Elevation Smoothed[m]','Energy_Consumption','Class of Speed Limit']\n",
    "\n",
    "# for phev and ev\n",
    "\n",
    "for vehid_tmp in tqdm(phev_list+ev_list):\n",
    "    df_specific = df.loc[df['VehId']==vehid_tmp,:].copy()\n",
    "    df_processed = df_specific.groupby('Trip', group_keys=False).apply(process_trip) # only for electric vehicles\n",
    "    df_processed.sort_values(['Trip','Timestamp(ms)'],inplace=True)\n",
    "    df_processed = df_processed[useful_features]\n",
    "    \n",
    "    df_processed['Timeidx'] = df_processed['Timestamp(ms)'] // 1000\n",
    "    df_processed.drop_duplicates(subset=['VehId','Trip','Timeidx'],keep='first',inplace=True)\n",
    "    df_processed = check_and_fix_timeidx(df_processed)\n",
    "\n",
    "    trip_list = np.unique(df_processed['Trip'].values)\n",
    "    for trip_tmp in tqdm(trip_list):\n",
    "        df_tmp = df_processed.loc[df_processed['Trip']== trip_tmp,:].copy()\n",
    "        df_tmp.reset_index(drop=True,inplace=True)\n",
    "        total_seconds = df_tmp.shape[0]\n",
    "        if total_seconds < sequence_length: # discard this trip\n",
    "            continue\n",
    "        \n",
    "        for idx in range(0,total_seconds-sequence_length,60): # two consecutive samples are 60 seconds apart\n",
    "            df_slice = df_tmp.iloc[idx:idx+sequence_length,:]\n",
    "            x_slice  = df_slice[['VehId','Vehicle Speed[km/h]','OAT[DegC]','Elevation Smoothed[m]',\n",
    "                                 'Class of Speed Limit','Latitude[deg]','Longitude[deg]']].values\n",
    "            y_slice  = df_slice['Energy_Consumption'].sum()*3600*(1/3600) # unit: kWh\n",
    "            time_series_x.append(x_slice)\n",
    "            time_series_y.append(y_slice)"
   ]
  },
  {
   "cell_type": "code",
   "execution_count": 164,
   "id": "9a2809db",
   "metadata": {},
   "outputs": [],
   "source": [
    "time_series_x = np.array(time_series_x) # vehid, speed, temperature, elevation, class of speed limit, latitude, longitude\n",
    "time_series_y = np.array(time_series_y) # energy consumption for this segment"
   ]
  },
  {
   "cell_type": "code",
   "execution_count": 165,
   "id": "bcaaf11d",
   "metadata": {},
   "outputs": [],
   "source": [
    "np.savez('timeseries_dataset_phev_ev.npz', X=time_series_x, y=time_series_y)"
   ]
  },
  {
   "cell_type": "code",
   "execution_count": 166,
   "id": "61d845a1",
   "metadata": {},
   "outputs": [
    {
     "data": {
      "text/plain": [
       "(33596, 100, 7)"
      ]
     },
     "execution_count": 166,
     "metadata": {},
     "output_type": "execute_result"
    }
   ],
   "source": [
    "time_series_x.shape"
   ]
  },
  {
   "cell_type": "code",
   "execution_count": 168,
   "id": "bade785d",
   "metadata": {},
   "outputs": [
    {
     "name": "stderr",
     "output_type": "stream",
     "text": [
      "100%|█████████████████████████████████████████████████████████████| 357/357 [48:29<00:00,  8.15s/it]\n"
     ]
    }
   ],
   "source": [
    "time_series_x_gas = []\n",
    "time_series_y_gas = []\n",
    "\n",
    "sequence_length = 100 # unit: second, use_defined_parameters\n",
    "useful_features = ['VehId','Trip','Timestamp(ms)','Latitude[deg]','Longitude[deg]','Vehicle Speed[km/h]',\n",
    "                  'OAT[DegC]','Elevation Smoothed[m]','Energy_Consumption','Class of Speed Limit']\n",
    "\n",
    "# for icv and hev\n",
    "\n",
    "for vehid_tmp in tqdm(icv_list+hev_list):\n",
    "    df_processed = df.loc[df['VehId']==vehid_tmp,:].copy()\n",
    "    df_processed.sort_values(['Trip','Timestamp(ms)'],inplace=True)\n",
    "    df_processed = df_processed[useful_features]\n",
    "    \n",
    "    df_processed['Timeidx'] = df_processed['Timestamp(ms)'] // 1000\n",
    "    df_processed.drop_duplicates(subset=['VehId','Trip','Timeidx'],keep='first',inplace=True)\n",
    "    df_processed = check_and_fix_timeidx(df_processed)\n",
    "\n",
    "    trip_list = np.unique(df_processed['Trip'].values)\n",
    "    for trip_tmp in trip_list:\n",
    "        df_tmp = df_processed.loc[df_processed['Trip']== trip_tmp,:].copy()\n",
    "        df_tmp.reset_index(drop=True,inplace=True)\n",
    "        total_seconds = df_tmp.shape[0]\n",
    "        if total_seconds < sequence_length: # discard this trip\n",
    "            continue\n",
    "        \n",
    "        for idx in range(0,total_seconds-sequence_length,60): # two consecutive samples are 60 seconds apart\n",
    "            df_slice = df_tmp.iloc[idx:idx+sequence_length,:]\n",
    "            x_slice  = df_slice[['VehId','Vehicle Speed[km/h]','OAT[DegC]','Elevation Smoothed[m]',\n",
    "                                 'Class of Speed Limit','Latitude[deg]','Longitude[deg]']].values\n",
    "            y_slice  = df_slice['Energy_Consumption'].sum()*3600*(1/3600) # unit: kWh\n",
    "            time_series_x_gas.append(x_slice)\n",
    "            time_series_y_gas.append(y_slice)"
   ]
  },
  {
   "cell_type": "code",
   "execution_count": 169,
   "id": "7f78e28e",
   "metadata": {},
   "outputs": [
    {
     "data": {
      "text/plain": [
       "(216114, 100, 7)"
      ]
     },
     "execution_count": 169,
     "metadata": {},
     "output_type": "execute_result"
    }
   ],
   "source": [
    "time_series_x_gas = np.array(time_series_x_gas)\n",
    "time_series_y_gas = np.array(time_series_y_gas)\n",
    "\n",
    "time_series_x_gas.shape\n"
   ]
  },
  {
   "cell_type": "code",
   "execution_count": 170,
   "id": "5774df2e",
   "metadata": {},
   "outputs": [],
   "source": [
    "np.savez('timeseries_dataset_icv_hev.npz', X=time_series_x_gas, y=time_series_y_gas)"
   ]
  }
 ],
 "metadata": {
  "kernelspec": {
   "display_name": "Python 3 (ipykernel)",
   "language": "python",
   "name": "python3"
  },
  "language_info": {
   "codemirror_mode": {
    "name": "ipython",
    "version": 3
   },
   "file_extension": ".py",
   "mimetype": "text/x-python",
   "name": "python",
   "nbconvert_exporter": "python",
   "pygments_lexer": "ipython3",
   "version": "3.12.2"
  }
 },
 "nbformat": 4,
 "nbformat_minor": 5
}
